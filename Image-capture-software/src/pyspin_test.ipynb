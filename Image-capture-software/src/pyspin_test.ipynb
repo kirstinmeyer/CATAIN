{
 "cells": [
  {
   "cell_type": "code",
   "execution_count": null,
   "metadata": {},
   "outputs": [],
   "source": [
    "import PySpin"
   ]
  },
  {
   "cell_type": "code",
   "execution_count": null,
   "metadata": {},
   "outputs": [],
   "source": []
  },
  {
   "cell_type": "code",
   "execution_count": null,
   "metadata": {},
   "outputs": [],
   "source": [
    "system = PySpin.System.GetInstance()\n",
    "cam_list = system.GetCameras()\n",
    "print('# cameras detected: '+str(cam_list.GetSize()))\n",
    "cam = cam_list[0]\n",
    "cam.Init()"
   ]
  },
  {
   "cell_type": "code",
   "execution_count": null,
   "metadata": {},
   "outputs": [],
   "source": [
    "cam.DeInit()\n",
    "system.ReleaseInstance()"
   ]
  },
  {
   "cell_type": "code",
   "execution_count": null,
   "metadata": {},
   "outputs": [],
   "source": [
    "assert cam.ExposureAuto.GetAccessMode() == PySpin.RW\n",
    "\n",
    "cam.ExposureAuto.SetValue(PySpin.ExposureAuto_Off)\n",
    "    print('Automatic exposure disabled...')\n",
    "\n",
    "exposure_us=2*1e6\n",
    "cam.ExposureTime.SetValue(exposure_us)\n",
    "\n",
    "assert cam.AcquisitionMode.GetAccessMode() == PySpin.RW\n",
    "\n"
   ]
  },
  {
   "cell_type": "code",
   "execution_count": null,
   "metadata": {},
   "outputs": [],
   "source": [
    "cam.AcquisitionMode.SetValue(PySpin.AcquisitionMode_SingleFrame)\n",
    "timestr=time.strftime('%Y-%m-%d-%H-%M-%S')\n",
    "\n",
    "\n",
    "for exp_ms in [0.5, 1.0, 2.0, 4.0]:\n",
    "    cam.ExposureTime.SetValue(exp_ms*1e6)\n",
    "    cam.BeginAcquisition()\n",
    "    image = cam.GetNextImage()\n",
    "    filename = timestr+'_%1.2fms.png' % (exp_ms)\n",
    "    image.Save(filename)\n",
    "    print('Saved '+filename)\n",
    "    image.Release()\n",
    "    cam.EndAcquisition()\n"
   ]
  },
  {
   "cell_type": "code",
   "execution_count": null,
   "metadata": {},
   "outputs": [],
   "source": [
    "def configure_exposure(cam,exp=):\n",
    "    \"\"\"\n",
    "     This function configures a custom exposure time. Automatic exposure is turned\n",
    "     off in order to allow for the customization, and then the custom setting is\n",
    "     applied.\n",
    "\n",
    "     :param cam: Camera to configure exposure for.\n",
    "     :type cam: CameraPtr\n",
    "     :return: True if successful, False otherwise.\n",
    "     :rtype: bool\n",
    "    \"\"\"\n",
    "\n",
    "    print('*** CONFIGURING EXPOSURE ***\\n')\n",
    "\n",
    "    try:\n",
    "        result = True\n",
    "\n",
    "        # Turn off automatic exposure mode\n",
    "        #\n",
    "        # *** NOTES ***\n",
    "        # Automatic exposure prevents the manual configuration of exposure\n",
    "        # times and needs to be turned off for this example. Enumerations\n",
    "        # representing entry nodes have been added to QuickSpin. This allows\n",
    "        # for the much easier setting of enumeration nodes to new values.\n",
    "        #\n",
    "        # The naming convention of QuickSpin enums is the name of the\n",
    "        # enumeration node followed by an underscore and the symbolic of\n",
    "        # the entry node. Selecting \"Off\" on the \"ExposureAuto\" node is\n",
    "        # thus named \"ExposureAuto_Off\".\n",
    "        #\n",
    "        # *** LATER ***\n",
    "        # Exposure time can be set automatically or manually as needed. This\n",
    "        # example turns automatic exposure off to set it manually and back\n",
    "        # on to return the camera to its default state.\n",
    "\n",
    "        if cam.ExposureAuto.GetAccessMode() != PySpin.RW:\n",
    "            print('Unable to disable automatic exposure. Aborting...')\n",
    "            return False\n",
    "\n",
    "        cam.ExposureAuto.SetValue(PySpin.ExposureAuto_Off)\n",
    "        print('Automatic exposure disabled...')\n",
    "\n",
    "        # Set exposure time manually; exposure time recorded in microseconds\n",
    "        #\n",
    "        # *** NOTES ***\n",
    "        # Notice that the node is checked for availability and writability\n",
    "        # prior to the setting of the node. In QuickSpin, availability and\n",
    "        # writability are ensured by checking the access mode.\n",
    "        #\n",
    "        # Further, it is ensured that the desired exposure time does not exceed\n",
    "        # the maximum. Exposure time is counted in microseconds - this can be\n",
    "        # found out either by retrieving the unit with the GetUnit() method or\n",
    "        # by checking SpinView.\n",
    "\n",
    "        if cam.ExposureTime.GetAccessMode() != PySpin.RW:\n",
    "            print('Unable to set exposure time. Aborting...')\n",
    "            return False\n",
    "\n",
    "        # Ensure desired exposure time does not exceed the maximum\n",
    "        exposure_time_to_set = 2000000.0\n",
    "        exposure_time_to_set = min(cam.ExposureTime.GetMax(), exposure_time_to_set)\n",
    "        cam.ExposureTime.SetValue(exposure_time_to_set)\n",
    "        print('Shutter time set to %s us...\\n' % exposure_time_to_set)\n",
    "\n",
    "    except PySpin.SpinnakerException as ex:\n",
    "        print('Error: %s' % ex)\n",
    "        result = False\n",
    "\n",
    "    return result"
   ]
  },
  {
   "cell_type": "code",
   "execution_count": null,
   "metadata": {},
   "outputs": [],
   "source": [
    "def acquire_images(cam):\n",
    "    \"\"\"\n",
    "    This function acquires and saves 10 images from a device; please see\n",
    "    Acquisition example for more in-depth comments on the acquisition of images.\n",
    "\n",
    "    :param cam: Camera to acquire images from.\n",
    "    :type cam: CameraPtr\n",
    "    :return: True if successful, False otherwise.\n",
    "    :rtype: bool\n",
    "    \"\"\"\n",
    "    print('*** IMAGE ACQUISITION ***')\n",
    "\n",
    "    try:\n",
    "        result = True\n",
    "\n",
    "        # Set acquisition mode to continuous\n",
    "        if cam.AcquisitionMode.GetAccessMode() != PySpin.RW:\n",
    "            print('Unable to set acquisition mode to continuous. Aborting...')\n",
    "            return False\n",
    "\n",
    "        cam.AcquisitionMode.SetValue(PySpin.AcquisitionMode_Continuous)\n",
    "        print('Acquisition mode set to continuous...')\n",
    "\n",
    "        # Begin acquiring images\n",
    "        cam.BeginAcquisition()\n",
    "\n",
    "        print('Acquiring images...')\n",
    "\n",
    "        # Get device serial number for filename\n",
    "        device_serial_number = ''\n",
    "        if cam.TLDevice.DeviceSerialNumber is not None and cam.TLDevice.DeviceSerialNumber.GetAccessMode() == PySpin.RO:\n",
    "            device_serial_number = cam.TLDevice.DeviceSerialNumber.GetValue()\n",
    "\n",
    "            print('Device serial number retrieved as %s...' % device_serial_number)\n",
    "\n",
    "        #Retrieve, convert, and save images\n",
    "        for i in range(3):\n",
    "\n",
    "            try:\n",
    "                # Retrieve next received image and ensure image completion\n",
    "                image_result = cam.GetNextImage()\n",
    "\n",
    "                if image_result.IsIncomplete():\n",
    "                    print('Image incomplete with image status %d...' % image_result.GetImageStatus())\n",
    "\n",
    "                else:\n",
    "                    # Print image information\n",
    "                    width = image_result.GetWidth()\n",
    "                    height = image_result.GetHeight()\n",
    "                    print('Grabbed Image %d, width = %d, height = %d' % (i, width, height))\n",
    "\n",
    "                    # Convert image to Mono8\n",
    "                    #image_converted = image_result.Convert(PySpin.PixelFormat_Mono8)\n",
    "                    image_converted = image_result.Convert(PySpin.PixelFormat_RGB32f)                    \n",
    "\n",
    "                    # Create a unique filename\n",
    "                    filename = 'larvaecam-%d.tif' % (i)\n",
    "\n",
    "                    # Save image\n",
    "                    image_converted.Save(filename)\n",
    "\n",
    "                    print('Image saved at %s' % filename)\n",
    "\n",
    "                # Release image\n",
    "                image_result.Release()\n",
    "\n",
    "            except PySpin.SpinnakerException as ex:\n",
    "                print('Error: %s' % ex)\n",
    "                result = False\n",
    "\n",
    "        # End acquisition\n",
    "        cam.EndAcquisition()\n",
    "\n",
    "    except PySpin.SpinnakerException as ex:\n",
    "        print('Error: %s' % ex)\n",
    "        result = False\n",
    "\n",
    "    return result"
   ]
  },
  {
   "cell_type": "code",
   "execution_count": null,
   "metadata": {},
   "outputs": [],
   "source": [
    "def acquire_image(cam):\n",
    "\n",
    "\n",
    "    try:\n",
    "        result = True\n",
    "\n",
    "\n",
    "        print('Acquiring images...')\n",
    "\n",
    "        try:\n",
    "            # Retrieve next received image and ensure image completion\n",
    "            image_result = cam.GetNextImage()\n",
    "\n",
    "            if image_result.IsIncomplete():\n",
    "                print('Image incomplete with image status %d...' % image_result.GetImageStatus())\n",
    "                \n",
    "            return image_result\n",
    " \n",
    "        except PySpin.SpinnakerException as ex:\n",
    "                print('Error: %s' % ex)\n",
    "                result = False\n",
    "\n",
    "        # End acquisition\n",
    "        #cam.EndAcquisition()\n",
    "\n",
    "    except PySpin.SpinnakerException as ex:\n",
    "        print('Error: %s' % ex)\n",
    "        result = False\n",
    "\n",
    "    return result"
   ]
  },
  {
   "cell_type": "code",
   "execution_count": null,
   "metadata": {},
   "outputs": [],
   "source": [
    "configure_exposure(cam)\n"
   ]
  },
  {
   "cell_type": "code",
   "execution_count": null,
   "metadata": {},
   "outputs": [],
   "source": [
    "i=acquire_image(cam)"
   ]
  },
  {
   "cell_type": "code",
   "execution_count": null,
   "metadata": {},
   "outputs": [],
   "source": [
    "cam.BeginAcquisition()"
   ]
  },
  {
   "cell_type": "code",
   "execution_count": null,
   "metadata": {},
   "outputs": [],
   "source": [
    "image_result = cam.GetNextImage()"
   ]
  },
  {
   "cell_type": "code",
   "execution_count": null,
   "metadata": {},
   "outputs": [],
   "source": [
    "image_result.GetPixelFormat()"
   ]
  },
  {
   "cell_type": "code",
   "execution_count": null,
   "metadata": {},
   "outputs": [],
   "source": [
    "PySpin.PixelFormat_BayerRG8"
   ]
  },
  {
   "cell_type": "code",
   "execution_count": null,
   "metadata": {},
   "outputs": [],
   "source": [
    "image_result.Save('img2.png')\n",
    "image_result.Release()"
   ]
  },
  {
   "cell_type": "code",
   "execution_count": null,
   "metadata": {},
   "outputs": [],
   "source": [
    "cam.EndAcquisition()"
   ]
  },
  {
   "cell_type": "code",
   "execution_count": null,
   "metadata": {},
   "outputs": [],
   "source": [
    "import time"
   ]
  },
  {
   "cell_type": "code",
   "execution_count": null,
   "metadata": {},
   "outputs": [],
   "source": [
    "time.strftime('%Y-%m-%d-%H-%M-%S')"
   ]
  },
  {
   "cell_type": "code",
   "execution_count": null,
   "metadata": {},
   "outputs": [],
   "source": [
    "1*1e6"
   ]
  },
  {
   "cell_type": "code",
   "execution_count": null,
   "metadata": {},
   "outputs": [],
   "source": [
    "cam."
   ]
  },
  {
   "cell_type": "code",
   "execution_count": null,
   "metadata": {},
   "outputs": [],
   "source": []
  }
 ],
 "metadata": {
  "kernelspec": {
   "display_name": "Python 3",
   "language": "python",
   "name": "python3"
  },
  "language_info": {
   "codemirror_mode": {
    "name": "ipython",
    "version": 3
   },
   "file_extension": ".py",
   "mimetype": "text/x-python",
   "name": "python",
   "nbconvert_exporter": "python",
   "pygments_lexer": "ipython3",
   "version": "3.6.8"
  }
 },
 "nbformat": 4,
 "nbformat_minor": 2
}
